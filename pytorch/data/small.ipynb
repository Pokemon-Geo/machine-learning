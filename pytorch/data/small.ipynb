{
 "cells": [
  {
   "cell_type": "code",
   "execution_count": 1,
   "metadata": {},
   "outputs": [
    {
     "name": "stderr",
     "output_type": "stream",
     "text": [
      "c:\\Users\\Sebastian Cavada\\anaconda3\\envs\\cv\\lib\\site-packages\\scipy\\__init__.py:146: UserWarning: A NumPy version >=1.16.5 and <1.23.0 is required for this version of SciPy (detected version 1.23.4\n",
      "  warnings.warn(f\"A NumPy version >={np_minversion} and <{np_maxversion}\"\n"
     ]
    }
   ],
   "source": [
    "import glob\n",
    "import numpy as np\n",
    "from PIL import Image\n",
    "import imageio\n",
    "import imgaug as ia\n",
    "from imgaug import augmenters as iaa\n",
    "ia.seed(4)\n",
    "%matplotlib inline"
   ]
  },
  {
   "cell_type": "code",
   "execution_count": 2,
   "metadata": {},
   "outputs": [
    {
     "name": "stderr",
     "output_type": "stream",
     "text": [
      "C:\\Users\\Sebastian Cavada\\AppData\\Local\\Temp\\ipykernel_11812\\2453036140.py:4: DeprecationWarning: Starting with ImageIO v3 the behavior of this function will switch to that of iio.v3.imread. To keep the current behavior (and make this warning disappear) use `import imageio.v2 as imageio` or call `imageio.v2.imread` directly.\n",
      "  images.append(imageio.imread(filename))\n",
      "c:\\Users\\Sebastian Cavada\\anaconda3\\envs\\cv\\lib\\site-packages\\PIL\\TiffImagePlugin.py:845: UserWarning: Corrupt EXIF data.  Expecting to read 4 bytes but only got 0. \n",
      "  warnings.warn(str(msg))\n",
      "C:\\Users\\Sebastian Cavada\\AppData\\Local\\Temp\\ipykernel_11812\\2453036140.py:5: VisibleDeprecationWarning: Creating an ndarray from ragged nested sequences (which is a list-or-tuple of lists-or-tuples-or ndarrays with different lengths or shapes) is deprecated. If you meant to do this, you must specify 'dtype=object' when creating the ndarray.\n",
      "  images = np.array(images)\n"
     ]
    }
   ],
   "source": [
    "# load images\n",
    "images = []\n",
    "for filename in glob.glob('./_original/extra_issues/*.jpg'):\n",
    "    images.append(imageio.imread(filename))\n",
    "images = np.array(images)\n",
    "\n",
    "# resize all images to 128x128\n",
    "images = np.array([np.array(Image.fromarray(image).resize((256, 256))) for image in images])"
   ]
  },
  {
   "cell_type": "code",
   "execution_count": 3,
   "metadata": {},
   "outputs": [
    {
     "name": "stdout",
     "output_type": "stream",
     "text": [
      "110922564394897.jpg\n"
     ]
    },
    {
     "ename": "FileNotFoundError",
     "evalue": "[Errno 2] No such file or directory: 'dataset/hackatum_dataset/train/110922564394897.jpg'",
     "output_type": "error",
     "traceback": [
      "\u001b[1;31m---------------------------------------------------------------------------\u001b[0m",
      "\u001b[1;31mFileNotFoundError\u001b[0m                         Traceback (most recent call last)",
      "\u001b[1;32mc:\\Users\\Sebastian Cavada\\Documents\\SCSV\\Projects\\HackaTUM\\machine-learning\\pytorch\\data\\small.ipynb Cell 3\u001b[0m in \u001b[0;36m<cell line: 5>\u001b[1;34m()\u001b[0m\n\u001b[0;32m      <a href='vscode-notebook-cell:/c%3A/Users/Sebastian%20Cavada/Documents/SCSV/Projects/HackaTUM/machine-learning/pytorch/data/small.ipynb#W2sZmlsZQ%3D%3D?line=4'>5</a>\u001b[0m \u001b[39mfor\u001b[39;00m i \u001b[39min\u001b[39;00m \u001b[39mopen\u001b[39m:\n\u001b[0;32m      <a href='vscode-notebook-cell:/c%3A/Users/Sebastian%20Cavada/Documents/SCSV/Projects/HackaTUM/machine-learning/pytorch/data/small.ipynb#W2sZmlsZQ%3D%3D?line=5'>6</a>\u001b[0m     \u001b[39mprint\u001b[39m(i)\n\u001b[1;32m----> <a href='vscode-notebook-cell:/c%3A/Users/Sebastian%20Cavada/Documents/SCSV/Projects/HackaTUM/machine-learning/pytorch/data/small.ipynb#W2sZmlsZQ%3D%3D?line=6'>7</a>\u001b[0m     img \u001b[39m=\u001b[39m Image\u001b[39m.\u001b[39;49mopen(\u001b[39m'\u001b[39;49m\u001b[39mdataset/hackatum_dataset/train/\u001b[39;49m\u001b[39m'\u001b[39;49m\u001b[39m+\u001b[39;49mi)\n\u001b[0;32m      <a href='vscode-notebook-cell:/c%3A/Users/Sebastian%20Cavada/Documents/SCSV/Projects/HackaTUM/machine-learning/pytorch/data/small.ipynb#W2sZmlsZQ%3D%3D?line=7'>8</a>\u001b[0m     img \u001b[39m=\u001b[39m img\u001b[39m.\u001b[39mresize((\u001b[39m256\u001b[39m, \u001b[39m256\u001b[39m), Image\u001b[39m.\u001b[39mResampling\u001b[39m.\u001b[39mLANCZOS)\n\u001b[0;32m      <a href='vscode-notebook-cell:/c%3A/Users/Sebastian%20Cavada/Documents/SCSV/Projects/HackaTUM/machine-learning/pytorch/data/small.ipynb#W2sZmlsZQ%3D%3D?line=8'>9</a>\u001b[0m     img\u001b[39m.\u001b[39msave(\u001b[39m'\u001b[39m\u001b[39m./extra_issues_medium/\u001b[39m\u001b[39m'\u001b[39m\u001b[39m+\u001b[39mi)\n",
      "File \u001b[1;32mc:\\Users\\Sebastian Cavada\\anaconda3\\envs\\cv\\lib\\site-packages\\PIL\\Image.py:3092\u001b[0m, in \u001b[0;36mopen\u001b[1;34m(fp, mode, formats)\u001b[0m\n\u001b[0;32m   3089\u001b[0m     filename \u001b[39m=\u001b[39m fp\n\u001b[0;32m   3091\u001b[0m \u001b[39mif\u001b[39;00m filename:\n\u001b[1;32m-> 3092\u001b[0m     fp \u001b[39m=\u001b[39m builtins\u001b[39m.\u001b[39;49mopen(filename, \u001b[39m\"\u001b[39;49m\u001b[39mrb\u001b[39;49m\u001b[39m\"\u001b[39;49m)\n\u001b[0;32m   3093\u001b[0m     exclusive_fp \u001b[39m=\u001b[39m \u001b[39mTrue\u001b[39;00m\n\u001b[0;32m   3095\u001b[0m \u001b[39mtry\u001b[39;00m:\n",
      "\u001b[1;31mFileNotFoundError\u001b[0m: [Errno 2] No such file or directory: 'dataset/hackatum_dataset/train/110922564394897.jpg'"
     ]
    }
   ],
   "source": [
    "# for each image in the folder dataset/hackatum_dataset/train, resize it to 128x128 and save it in dataset/hackatum_dataset/train_resized\n",
    "import os\n",
    "\n",
    "open = os.listdir('./_original/extra_issues/')\n",
    "for i in open:\n",
    "    print(i)\n",
    "    img = Image.open('./_original/extra_issues/'+i)\n",
    "    img = img.resize((256, 256), Image.Resampling.LANCZOS)\n",
    "    img.save('./extra_issues_medium/'+i)"
   ]
  },
  {
   "cell_type": "code",
   "execution_count": 13,
   "metadata": {},
   "outputs": [
    {
     "name": "stdout",
     "output_type": "stream",
     "text": [
      "1111356549372320.jpg\n",
      "1116569202161190.jpg\n",
      "1168266306995027.jpg\n",
      "1169272866885815.jpg\n",
      "1179024579192636.jpg\n",
      "118033853940785.jpg\n",
      "1203713060064792.jpg\n",
      "1444410486006769.jpg\n",
      "152113683604813.jpg\n",
      "1617881968401383.jpg\n",
      "165180662274601.jpg\n",
      "165325312104833.jpg\n",
      "1908921795934543.jpg\n",
      "1958476464304300.jpg\n",
      "206690207942627.jpg\n",
      "206818761057187.jpg\n",
      "2104668886342814.jpg\n",
      "231548545020391.jpg\n",
      "279051850575007.jpg\n",
      "288933689555335.jpg\n",
      "2903836206525992.jpg\n",
      "2936862423228553.jpg\n",
      "302170867952786.jpg\n",
      "3053106944952579.jpg\n",
      "307197161069899.jpg\n",
      "3166116630341540.jpg\n",
      "322976835868405.jpg\n",
      "334468768041647.jpg\n",
      "337970134344972.jpg\n",
      "339832254369600.jpg\n",
      "352377626801467.jpg\n",
      "381092953640756.jpg\n",
      "3843541779087833.jpg\n",
      "386621986110292.jpg\n",
      "3957171737678110.jpg\n",
      "4313155755395467.jpg\n",
      "469165534342606.jpg\n",
      "471606914148997.jpg\n",
      "488421822591094.jpg\n",
      "495202431908900.jpg\n",
      "497453898266306.jpg\n",
      "508230323834939.jpg\n",
      "514746242865850.jpg\n",
      "559689098350497.jpg\n",
      "605236120869638.jpg\n",
      "644809956744094.jpg\n",
      "747416719264249.jpg\n",
      "765508600819410.jpg\n",
      "771825910364973.jpg\n",
      "773495266666119.jpg\n",
      "822783228359635.jpg\n",
      "822868295316736.jpg\n",
      "826651648262806.jpg\n",
      "829357344336739.jpg\n",
      "848107772476837.jpg\n",
      "852042905657831.jpg\n",
      "895198701211404.jpg\n",
      "918782128975144.jpg\n",
      "922443754967241.jpg\n",
      "927960174656557.jpg\n",
      "954203738675737.jpg\n",
      "982542575849689.jpg\n",
      "987253312013266.jpg\n"
     ]
    }
   ],
   "source": [
    "# for each image in the folder dataset/hackatum_dataset/train, resize it to 128x128 and save it in dataset/hackatum_dataset/train_resized\n",
    "import os\n",
    "\n",
    "open = os.listdir('dataset/hackatum_dataset/val/footway/')\n",
    "for i in open:\n",
    "    print(i)\n",
    "    img = Image.open('dataset/hackatum_dataset/val/footway/'+i)\n",
    "    img = img.resize((256, 256), Image.Resampling.LANCZOS)\n",
    "    img.save('dataset/hackatum_dataset/val_medium/footway/'+i)"
   ]
  },
  {
   "cell_type": "code",
   "execution_count": 15,
   "metadata": {},
   "outputs": [
    {
     "name": "stdout",
     "output_type": "stream",
     "text": [
      "1022236934979792.jpg\n",
      "1124473057963807.jpg\n",
      "1210006676122758.jpg\n",
      "1381332402224191.jpg\n",
      "1383186442039193.jpg\n",
      "1400650820298263.jpg\n",
      "1407098693022626.jpg\n",
      "142360954539412.jpg\n",
      "151552926945434.jpg\n",
      "154972666585450.jpg\n",
      "175153487833042.jpg\n",
      "176128040978236.jpg\n",
      "177003250871249.jpg\n",
      "177970074196189.jpg\n",
      "188898393089879.jpg\n",
      "1900986093402138.jpg\n",
      "194729679139646.jpg\n",
      "2011384699250213.jpg\n",
      "205585951391226.jpg\n",
      "217880619798407.jpg\n",
      "221748706052474.jpg\n",
      "234764851740534.jpg\n",
      "256926566182023.jpg\n",
      "257384076307663.jpg\n",
      "262827108876163.jpg\n",
      "272074997915992.jpg\n",
      "2809045106021953.jpg\n",
      "2858971374321695.jpg\n",
      "295323455475976.jpg\n",
      "295819725538065.jpg\n",
      "300768428155320.jpg\n",
      "3033090006921195.jpg\n",
      "3035034360065012.jpg\n",
      "303854877900068.jpg\n",
      "307614427624140.jpg\n",
      "312326340551902.jpg\n",
      "369716604460647.jpg\n",
      "374550203977842.jpg\n",
      "382245749934362.jpg\n",
      "3912872388808374.jpg\n",
      "3962505780509111.jpg\n",
      "4010569925670073.jpg\n",
      "401961184131193.jpg\n",
      "4268570069820444.jpg\n",
      "468005564311500.jpg\n",
      "481170706455408.jpg\n",
      "487462819122529.jpg\n",
      "490449862151105.jpg\n",
      "512573763448675.jpg\n",
      "526092608760229.jpg\n",
      "555200019061449.jpg\n",
      "616462612643195.jpg\n",
      "676791113130669.jpg\n",
      "803832880537357.jpg\n",
      "832698874338792.jpg\n",
      "848401589086036.jpg\n",
      "856181508269777.jpg\n",
      "887137251849354.jpg\n",
      "891958168418634.jpg\n",
      "896220277828093.jpg\n",
      "908931096595644.jpg\n",
      "931948917593851.jpg\n"
     ]
    }
   ],
   "source": [
    "import os\n",
    "\n",
    "open = os.listdir('dataset/hackatum_dataset/val/primary/')\n",
    "for i in open:\n",
    "    print(i)\n",
    "    img = Image.open('dataset/hackatum_dataset/val/primary/'+i)\n",
    "    img = img.resize((256, 256), Image.Resampling.LANCZOS)\n",
    "    img.save('dataset/hackatum_dataset/val_medium/primary/'+i)"
   ]
  },
  {
   "cell_type": "code",
   "execution_count": null,
   "metadata": {},
   "outputs": [],
   "source": []
  }
 ],
 "metadata": {
  "kernelspec": {
   "display_name": "Python 3.9.13 ('cv')",
   "language": "python",
   "name": "python3"
  },
  "language_info": {
   "codemirror_mode": {
    "name": "ipython",
    "version": 3
   },
   "file_extension": ".py",
   "mimetype": "text/x-python",
   "name": "python",
   "nbconvert_exporter": "python",
   "pygments_lexer": "ipython3",
   "version": "3.9.13"
  },
  "orig_nbformat": 4,
  "vscode": {
   "interpreter": {
    "hash": "ed873c55909a6e142a866a7e2bf429482b15f3707c633b5ba7accb09030cdde1"
   }
  }
 },
 "nbformat": 4,
 "nbformat_minor": 2
}
