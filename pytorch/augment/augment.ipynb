{
 "cells": [
  {
   "cell_type": "code",
   "execution_count": 1,
   "metadata": {},
   "outputs": [
    {
     "name": "stderr",
     "output_type": "stream",
     "text": [
      "c:\\Users\\Sebastian Cavada\\anaconda3\\envs\\cv\\lib\\site-packages\\scipy\\__init__.py:146: UserWarning: A NumPy version >=1.16.5 and <1.23.0 is required for this version of SciPy (detected version 1.23.4\n",
      "  warnings.warn(f\"A NumPy version >={np_minversion} and <{np_maxversion}\"\n"
     ]
    }
   ],
   "source": [
    "import glob\n",
    "import numpy as np\n",
    "from PIL import Image\n",
    "import imageio\n",
    "import imgaug as ia\n",
    "from imgaug import augmenters as iaa\n",
    "ia.seed(4)\n",
    "%matplotlib inline"
   ]
  },
  {
   "cell_type": "code",
   "execution_count": 10,
   "metadata": {},
   "outputs": [],
   "source": [
    "filelist = glob.glob('./train_medium/footway/*.jpg')"
   ]
  },
  {
   "cell_type": "code",
   "execution_count": 11,
   "metadata": {},
   "outputs": [
    {
     "name": "stdout",
     "output_type": "stream",
     "text": [
      "(4002, 256, 256, 3)\n"
     ]
    }
   ],
   "source": [
    "x = np.array([np.array(Image.open(fname)) for fname in filelist])\n",
    "print(x.shape)"
   ]
  },
  {
   "cell_type": "code",
   "execution_count": 37,
   "metadata": {},
   "outputs": [],
   "source": [
    "# flip horizontally\n",
    "\n",
    "for i in range(len(x)):\n",
    "    image = x[i]\n",
    "    image = np.fliplr(image)\n",
    "    imageio.imwrite('./train_medium/footway/flip_'+str(i)+'.jpg', image)"
   ]
  },
  {
   "cell_type": "code",
   "execution_count": 41,
   "metadata": {},
   "outputs": [],
   "source": [
    "# gaussian blur\n",
    "for i in range(len(x)):\n",
    "    image = x[i]\n",
    "    image = iaa.AdditiveGaussianNoise(scale=(20, 30))(images=image)\n",
    "    imageio.imwrite('./train_medium/footway/gauss_'+str(i)+'.jpg', image)"
   ]
  },
  {
   "cell_type": "code",
   "execution_count": 84,
   "metadata": {},
   "outputs": [],
   "source": [
    "# rotation\n",
    "image = iaa.Rotate((-45, 45))(images=x)\n",
    "for i in range(len(x)):\n",
    "    imageio.imwrite('./train_medium/footway/affine_'+str(i)+'.jpg', image[i])"
   ]
  },
  {
   "cell_type": "code",
   "execution_count": 9,
   "metadata": {},
   "outputs": [],
   "source": [
    "# coarse dropout\n",
    "aug = iaa.CoarseDropout(0.02, size_percent=0.15, per_channel=0.5)(images=x)\n",
    "for i in range(len(x)):\n",
    "    imageio.imwrite('./train_medium/footway/coarse_'+str(i)+'.jpg', aug[i])"
   ]
  },
  {
   "cell_type": "code",
   "execution_count": 15,
   "metadata": {},
   "outputs": [],
   "source": [
    "filelist = glob.glob('./train_medium/primary/*.jpg')"
   ]
  },
  {
   "cell_type": "code",
   "execution_count": 16,
   "metadata": {},
   "outputs": [
    {
     "name": "stdout",
     "output_type": "stream",
     "text": [
      "(4000, 256, 256, 3)\n"
     ]
    }
   ],
   "source": [
    "x = np.array([np.array(Image.open(fname)) for fname in filelist])\n",
    "print(x.shape)"
   ]
  },
  {
   "cell_type": "code",
   "execution_count": 50,
   "metadata": {},
   "outputs": [],
   "source": [
    "# flip horizontally\n",
    "\n",
    "for i in range(len(x)):\n",
    "    image = x[i]\n",
    "    image = np.fliplr(image)\n",
    "    imageio.imwrite('./train_medium/primary/flip_'+str(i)+'.jpg', image)"
   ]
  },
  {
   "cell_type": "code",
   "execution_count": 53,
   "metadata": {},
   "outputs": [],
   "source": [
    "for i in range(len(x)):\n",
    "    image = x[i]\n",
    "    image = iaa.AdditiveGaussianNoise(scale=(20, 30))(images=image)\n",
    "    imageio.imwrite('./train_medium/primary/gauss_'+str(i)+'.jpg', image)"
   ]
  },
  {
   "cell_type": "code",
   "execution_count": 86,
   "metadata": {},
   "outputs": [],
   "source": [
    "# rotation\n",
    "image = iaa.Rotate((-45, 45))(images=x)\n",
    "for i in range(len(x)):\n",
    "    imageio.imwrite('./train_medium/primary/affine_'+str(i)+'.jpg', image[i])"
   ]
  },
  {
   "cell_type": "code",
   "execution_count": 14,
   "metadata": {},
   "outputs": [],
   "source": [
    "# coarse dropout\n",
    "aug = iaa.CoarseDropout(0.02, size_percent=0.15, per_channel=0.5)(images=x)\n",
    "for i in range(len(x)):\n",
    "    imageio.imwrite('./train_medium/primary/coarse_'+str(i)+'.jpg', aug[i])"
   ]
  },
  {
   "cell_type": "code",
   "execution_count": null,
   "metadata": {},
   "outputs": [],
   "source": []
  }
 ],
 "metadata": {
  "kernelspec": {
   "display_name": "Python 3.9.13 ('cv')",
   "language": "python",
   "name": "python3"
  },
  "language_info": {
   "codemirror_mode": {
    "name": "ipython",
    "version": 3
   },
   "file_extension": ".py",
   "mimetype": "text/x-python",
   "name": "python",
   "nbconvert_exporter": "python",
   "pygments_lexer": "ipython3",
   "version": "3.9.13"
  },
  "orig_nbformat": 4,
  "vscode": {
   "interpreter": {
    "hash": "ed873c55909a6e142a866a7e2bf429482b15f3707c633b5ba7accb09030cdde1"
   }
  }
 },
 "nbformat": 4,
 "nbformat_minor": 2
}
