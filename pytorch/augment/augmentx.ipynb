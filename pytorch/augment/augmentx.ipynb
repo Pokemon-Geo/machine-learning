{
 "cells": [
  {
   "cell_type": "code",
   "execution_count": 1,
   "metadata": {},
   "outputs": [
    {
     "name": "stderr",
     "output_type": "stream",
     "text": [
      "c:\\Users\\Sebastian Cavada\\anaconda3\\envs\\cv\\lib\\site-packages\\scipy\\__init__.py:146: UserWarning: A NumPy version >=1.16.5 and <1.23.0 is required for this version of SciPy (detected version 1.23.4\n",
      "  warnings.warn(f\"A NumPy version >={np_minversion} and <{np_maxversion}\"\n"
     ]
    }
   ],
   "source": [
    "import glob\n",
    "import numpy as np\n",
    "from PIL import Image\n",
    "import imageio\n",
    "import imgaug as ia\n",
    "from imgaug import augmenters as iaa\n",
    "ia.seed(4)\n",
    "%matplotlib inline"
   ]
  },
  {
   "cell_type": "code",
   "execution_count": 27,
   "metadata": {},
   "outputs": [],
   "source": [
    "filelist = glob.glob('../data/_original/train_medium/footway/*.jpg')"
   ]
  },
  {
   "cell_type": "code",
   "execution_count": 17,
   "metadata": {},
   "outputs": [
    {
     "name": "stdout",
     "output_type": "stream",
     "text": [
      "(250, 256, 256, 3)\n"
     ]
    }
   ],
   "source": [
    "x = np.array([np.array(Image.open(fname)) for fname in filelist])\n",
    "print(x.shape)"
   ]
  },
  {
   "cell_type": "code",
   "execution_count": 12,
   "metadata": {},
   "outputs": [],
   "source": [
    "# create folder if not exist\n",
    "import os\n",
    "if not os.path.exists('../data/train_medium_aug_2/footway/'):\n",
    "    os.makedirs('../data/train_medium_aug_2/footway/')"
   ]
  },
  {
   "cell_type": "code",
   "execution_count": 14,
   "metadata": {},
   "outputs": [],
   "source": [
    "# copy normal data\n",
    "for i in range(len(x)):\n",
    "    imageio.imwrite('../data/train_medium_aug_2/footway/' + str(i) + '.jpg', x[i])"
   ]
  },
  {
   "cell_type": "code",
   "execution_count": 13,
   "metadata": {},
   "outputs": [],
   "source": [
    "# flip horizontally\n",
    "\n",
    "for i in range(len(x)):\n",
    "    image = x[i]\n",
    "    image = np.fliplr(image)\n",
    "    imageio.imwrite('../data/train_medium_aug_2/footway/flip_'+str(i)+'.jpg', image)"
   ]
  },
  {
   "cell_type": "code",
   "execution_count": 18,
   "metadata": {},
   "outputs": [
    {
     "name": "stdout",
     "output_type": "stream",
     "text": [
      "(500, 256, 256, 3)\n"
     ]
    }
   ],
   "source": [
    "filelist = glob.glob('../data/train_medium_aug_2/footway/*.jpg')\n",
    "x = np.array([np.array(Image.open(fname)) for fname in filelist])\n",
    "print(x.shape)"
   ]
  },
  {
   "cell_type": "code",
   "execution_count": 19,
   "metadata": {},
   "outputs": [
    {
     "name": "stderr",
     "output_type": "stream",
     "text": [
      "c:\\Users\\Sebastian Cavada\\anaconda3\\envs\\cv\\lib\\site-packages\\imgaug\\augmenters\\base.py:27: SuspiciousMultiImageShapeWarning: You provided a numpy array of shape (256, 256, 3) as a multi-image augmentation input, which was interpreted as (N, H, W). The last dimension however has value 1 or 3, which indicates that you provided a single image with shape (H, W, C) instead. If that is the case, you should use e.g. augmenter(image=<your input>) or augment_image(<your input>) -- note the singular 'image' instead of 'imageS'. Otherwise your single input image will be interpreted as multiple images of shape (H, W) during augmentation.\n",
      "  ia.warn(\n"
     ]
    }
   ],
   "source": [
    "# gaussian blur\n",
    "for i in range(len(x)):\n",
    "    image = x[i]\n",
    "    image = iaa.AdditiveGaussianNoise(scale=(20, 30))(images=image)\n",
    "    imageio.imwrite('../data/train_medium_aug_2/footway/gauss_'+str(i)+'.jpg', image)"
   ]
  },
  {
   "cell_type": "code",
   "execution_count": 84,
   "metadata": {},
   "outputs": [],
   "source": [
    "# rotation\n",
    "image = iaa.Rotate((-45, 45))(images=x)\n",
    "for i in range(len(x)):\n",
    "    imageio.imwrite('./train_medium/footway/affine_'+str(i)+'.jpg', image[i])"
   ]
  },
  {
   "cell_type": "code",
   "execution_count": 9,
   "metadata": {},
   "outputs": [],
   "source": [
    "# coarse dropout\n",
    "aug = iaa.CoarseDropout(0.02, size_percent=0.15, per_channel=0.5)(images=x)\n",
    "for i in range(len(x)):\n",
    "    imageio.imwrite('./train_medium/footway/coarse_'+str(i)+'.jpg', aug[i])"
   ]
  },
  {
   "cell_type": "code",
   "execution_count": 20,
   "metadata": {},
   "outputs": [],
   "source": [
    "filelist = glob.glob('../data/_original/train_medium/primary/*.jpg')"
   ]
  },
  {
   "cell_type": "code",
   "execution_count": 21,
   "metadata": {},
   "outputs": [
    {
     "name": "stdout",
     "output_type": "stream",
     "text": [
      "(250, 256, 256, 3)\n"
     ]
    }
   ],
   "source": [
    "x = np.array([np.array(Image.open(fname)) for fname in filelist])\n",
    "print(x.shape)"
   ]
  },
  {
   "cell_type": "code",
   "execution_count": 22,
   "metadata": {},
   "outputs": [],
   "source": [
    "# create folder if not exist\n",
    "import os\n",
    "if not os.path.exists('../data/train_medium_aug_2/primary/'):\n",
    "    os.makedirs('../data/train_medium_aug_2/primary/')"
   ]
  },
  {
   "cell_type": "code",
   "execution_count": 24,
   "metadata": {},
   "outputs": [],
   "source": [
    "# copy normal data\n",
    "for i in range(len(x)):\n",
    "    imageio.imwrite('../data/train_medium_aug_2/primary/' + str(i) + '.jpg', x[i])"
   ]
  },
  {
   "cell_type": "code",
   "execution_count": 23,
   "metadata": {},
   "outputs": [],
   "source": [
    "# flip horizontally\n",
    "\n",
    "for i in range(len(x)):\n",
    "    image = x[i]\n",
    "    image = np.fliplr(image)\n",
    "    imageio.imwrite('../data/train_medium_aug_2/primary/flip_'+str(i)+'.jpg', image)"
   ]
  },
  {
   "cell_type": "code",
   "execution_count": 25,
   "metadata": {},
   "outputs": [
    {
     "name": "stdout",
     "output_type": "stream",
     "text": [
      "(500, 256, 256, 3)\n"
     ]
    }
   ],
   "source": [
    "filelist = glob.glob('../data/train_medium_aug_2/primary/*.jpg')\n",
    "x = np.array([np.array(Image.open(fname)) for fname in filelist])\n",
    "print(x.shape)"
   ]
  },
  {
   "cell_type": "code",
   "execution_count": 26,
   "metadata": {},
   "outputs": [],
   "source": [
    "# gaussian blur\n",
    "for i in range(len(x)):\n",
    "    image = x[i]\n",
    "    image = iaa.AdditiveGaussianNoise(scale=(20, 30))(images=image)\n",
    "    imageio.imwrite('../data/train_medium_aug_2/primary/gauss_'+str(i)+'.jpg', image)"
   ]
  },
  {
   "cell_type": "code",
   "execution_count": 86,
   "metadata": {},
   "outputs": [],
   "source": [
    "# rotation\n",
    "image = iaa.Rotate((-45, 45))(images=x)\n",
    "for i in range(len(x)):\n",
    "    imageio.imwrite('./train_medium/primary/affine_'+str(i)+'.jpg', image[i])"
   ]
  },
  {
   "cell_type": "code",
   "execution_count": 14,
   "metadata": {},
   "outputs": [],
   "source": [
    "# coarse dropout\n",
    "aug = iaa.CoarseDropout(0.02, size_percent=0.15, per_channel=0.5)(images=x)\n",
    "for i in range(len(x)):\n",
    "    imageio.imwrite('./train_medium/primary/coarse_'+str(i)+'.jpg', aug[i])"
   ]
  },
  {
   "cell_type": "markdown",
   "metadata": {},
   "source": [
    "## augment validation"
   ]
  },
  {
   "cell_type": "code",
   "execution_count": 28,
   "metadata": {},
   "outputs": [],
   "source": [
    "filelist = glob.glob('../data/_original/val_medium/footway/*.jpg')"
   ]
  },
  {
   "cell_type": "code",
   "execution_count": 29,
   "metadata": {},
   "outputs": [
    {
     "name": "stdout",
     "output_type": "stream",
     "text": [
      "(63, 256, 256, 3)\n"
     ]
    }
   ],
   "source": [
    "x = np.array([np.array(Image.open(fname)) for fname in filelist])\n",
    "print(x.shape)"
   ]
  },
  {
   "cell_type": "code",
   "execution_count": 30,
   "metadata": {},
   "outputs": [],
   "source": [
    "# create folder if not exist\n",
    "import os\n",
    "if not os.path.exists('../data/val_medium_aug_2/footway/'):\n",
    "    os.makedirs('../data/val_medium_aug_2/footway/')"
   ]
  },
  {
   "cell_type": "code",
   "execution_count": 31,
   "metadata": {},
   "outputs": [],
   "source": [
    "# copy normal data\n",
    "for i in range(len(x)):\n",
    "    imageio.imwrite('../data/val_medium_aug_2/footway/' + str(i) + '.jpg', x[i])"
   ]
  },
  {
   "cell_type": "code",
   "execution_count": 32,
   "metadata": {},
   "outputs": [],
   "source": [
    "# flip horizontally\n",
    "\n",
    "for i in range(len(x)):\n",
    "    image = x[i]\n",
    "    image = np.fliplr(image)\n",
    "    imageio.imwrite('../data/val_medium_aug_2/footway/flip_'+str(i)+'.jpg', image)"
   ]
  },
  {
   "cell_type": "code",
   "execution_count": 33,
   "metadata": {},
   "outputs": [
    {
     "name": "stdout",
     "output_type": "stream",
     "text": [
      "(126, 256, 256, 3)\n"
     ]
    }
   ],
   "source": [
    "filelist = glob.glob('../data/val_medium_aug_2/footway/*.jpg')\n",
    "x = np.array([np.array(Image.open(fname)) for fname in filelist])\n",
    "print(x.shape)"
   ]
  },
  {
   "cell_type": "code",
   "execution_count": 34,
   "metadata": {},
   "outputs": [],
   "source": [
    "# gaussian blur\n",
    "for i in range(len(x)):\n",
    "    image = x[i]\n",
    "    image = iaa.AdditiveGaussianNoise(scale=(20, 30))(images=image)\n",
    "    imageio.imwrite('../data/val_medium_aug_2/footway/gauss_'+str(i)+'.jpg', image)"
   ]
  },
  {
   "cell_type": "code",
   "execution_count": 35,
   "metadata": {},
   "outputs": [],
   "source": [
    "filelist = glob.glob('../data/_original/val_medium/primary/*.jpg')"
   ]
  },
  {
   "cell_type": "code",
   "execution_count": 36,
   "metadata": {},
   "outputs": [
    {
     "name": "stdout",
     "output_type": "stream",
     "text": [
      "(62, 256, 256, 3)\n"
     ]
    }
   ],
   "source": [
    "x = np.array([np.array(Image.open(fname)) for fname in filelist])\n",
    "print(x.shape)"
   ]
  },
  {
   "cell_type": "code",
   "execution_count": 38,
   "metadata": {},
   "outputs": [],
   "source": [
    "# create folder if not exist\n",
    "import os\n",
    "if not os.path.exists('../data/val_medium_aug_2/primary/'):\n",
    "    os.makedirs('../data/val_medium_aug_2/primary/')"
   ]
  },
  {
   "cell_type": "code",
   "execution_count": 39,
   "metadata": {},
   "outputs": [],
   "source": [
    "# copy normal data\n",
    "for i in range(len(x)):\n",
    "    imageio.imwrite('../data/val_medium_aug_2/primary/' + str(i) + '.jpg', x[i])"
   ]
  },
  {
   "cell_type": "code",
   "execution_count": 40,
   "metadata": {},
   "outputs": [],
   "source": [
    "# flip horizontally\n",
    "\n",
    "for i in range(len(x)):\n",
    "    image = x[i]\n",
    "    image = np.fliplr(image)\n",
    "    imageio.imwrite('../data/val_medium_aug_2/primary/flip_'+str(i)+'.jpg', image)"
   ]
  },
  {
   "cell_type": "code",
   "execution_count": 42,
   "metadata": {},
   "outputs": [
    {
     "name": "stdout",
     "output_type": "stream",
     "text": [
      "(124, 256, 256, 3)\n"
     ]
    }
   ],
   "source": [
    "filelist = glob.glob('../data/val_medium_aug_2/primary/*.jpg')\n",
    "x = np.array([np.array(Image.open(fname)) for fname in filelist])\n",
    "print(x.shape)"
   ]
  },
  {
   "cell_type": "code",
   "execution_count": 43,
   "metadata": {},
   "outputs": [],
   "source": [
    "# gaussian blur\n",
    "for i in range(len(x)):\n",
    "    image = x[i]\n",
    "    image = iaa.AdditiveGaussianNoise(scale=(20, 30))(images=image)\n",
    "    imageio.imwrite('../data/val_medium_aug_2/primary/gauss_'+str(i)+'.jpg', image)"
   ]
  },
  {
   "cell_type": "code",
   "execution_count": null,
   "metadata": {},
   "outputs": [],
   "source": []
  }
 ],
 "metadata": {
  "kernelspec": {
   "display_name": "Python 3.9.13 ('cv')",
   "language": "python",
   "name": "python3"
  },
  "language_info": {
   "codemirror_mode": {
    "name": "ipython",
    "version": 3
   },
   "file_extension": ".py",
   "mimetype": "text/x-python",
   "name": "python",
   "nbconvert_exporter": "python",
   "pygments_lexer": "ipython3",
   "version": "3.9.13"
  },
  "orig_nbformat": 4,
  "vscode": {
   "interpreter": {
    "hash": "ed873c55909a6e142a866a7e2bf429482b15f3707c633b5ba7accb09030cdde1"
   }
  }
 },
 "nbformat": 4,
 "nbformat_minor": 2
}
