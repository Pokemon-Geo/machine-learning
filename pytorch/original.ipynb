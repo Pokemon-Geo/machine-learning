{
 "cells": [
  {
   "cell_type": "code",
   "execution_count": 23,
   "metadata": {},
   "outputs": [],
   "source": [
    "import torch\n",
    "import torchvision\n",
    "import torchvision.transforms as transforms"
   ]
  },
  {
   "cell_type": "code",
   "execution_count": 24,
   "metadata": {},
   "outputs": [
    {
     "name": "stdout",
     "output_type": "stream",
     "text": [
      "Files already downloaded and verified\n",
      "Files already downloaded and verified\n"
     ]
    }
   ],
   "source": [
    "transform = transforms.Compose(\n",
    "    [transforms.ToTensor(),\n",
    "     transforms.Normalize((0.5, 0.5, 0.5), (0.5, 0.5, 0.5))])\n",
    "\n",
    "batch_size = 4\n",
    "\n",
    "trainset = torchvision.datasets.CIFAR10(root='./data', train=True,\n",
    "                                        download=True, transform=transform)\n",
    "trainloader = torch.utils.data.DataLoader(trainset, batch_size=batch_size,\n",
    "                                          shuffle=True, num_workers=2)\n",
    "\n",
    "testset = torchvision.datasets.CIFAR10(root='./data', train=False,\n",
    "                                       download=True, transform=transform)\n",
    "testloader = torch.utils.data.DataLoader(testset, batch_size=batch_size,\n",
    "                                         shuffle=False, num_workers=2)\n",
    "\n",
    "classes = ('plane', 'car', 'bird', 'cat',\n",
    "           'deer', 'dog', 'frog', 'horse', 'ship', 'truck')"
   ]
  },
  {
   "cell_type": "code",
   "execution_count": 25,
   "metadata": {},
   "outputs": [
    {
     "name": "stdout",
     "output_type": "stream",
     "text": [
      "data2 [tensor([[[[-0.7098, -0.7098, -0.6784,  ..., -0.3647, -0.4667, -0.3255],\n",
      "          [-0.7098, -0.7098, -0.6784,  ..., -0.1608, -0.1137, -0.1451],\n",
      "          [-0.7255, -0.7255, -0.6941,  ..., -0.1294, -0.0588,  0.0667],\n",
      "          ...,\n",
      "          [-0.4118, -0.4039, -0.3961,  ..., -0.0196,  0.0667,  0.1922],\n",
      "          [-0.4039, -0.3725, -0.3647,  ..., -0.0353,  0.0431,  0.1137],\n",
      "          [-0.3647, -0.3647, -0.3490,  ...,  0.0196,  0.1137,  0.1922]],\n",
      "\n",
      "         [[-0.3098, -0.3333, -0.2706,  ..., -0.4118, -0.4980, -0.3647],\n",
      "          [-0.3098, -0.3176, -0.2549,  ..., -0.2000, -0.1451, -0.1686],\n",
      "          [-0.3176, -0.3098, -0.2706,  ..., -0.1765, -0.1137, -0.0039],\n",
      "          ...,\n",
      "          [-0.5294, -0.5059, -0.4902,  ..., -0.0118,  0.0980,  0.2314],\n",
      "          [-0.5059, -0.4745, -0.4667,  ..., -0.0196,  0.0667,  0.1608],\n",
      "          [-0.4510, -0.4588, -0.4588,  ...,  0.0353,  0.1529,  0.2314]],\n",
      "\n",
      "         [[-0.0196, -0.0510,  0.0118,  ..., -0.4510, -0.5373, -0.3804],\n",
      "          [-0.0275, -0.0275,  0.0431,  ..., -0.1686, -0.1137, -0.1137],\n",
      "          [-0.0275, -0.0196,  0.0510,  ..., -0.1216, -0.0431,  0.0745],\n",
      "          ...,\n",
      "          [-0.5843, -0.5843, -0.5765,  ...,  0.1451,  0.2706,  0.4118],\n",
      "          [-0.5843, -0.5608, -0.5529,  ...,  0.1216,  0.2549,  0.3412],\n",
      "          [-0.5451, -0.5529, -0.5373,  ...,  0.1843,  0.3255,  0.4118]]],\n",
      "\n",
      "\n",
      "        [[[-0.8431, -0.8275, -0.8275,  ..., -0.3647, -0.2784, -0.2392],\n",
      "          [-0.6078, -0.6627, -0.4353,  ..., -0.3098, -0.3647, -0.1686],\n",
      "          [-0.5686, -0.6235, -0.6235,  ..., -0.2706, -0.2784, -0.2784],\n",
      "          ...,\n",
      "          [ 1.0000,  0.9059,  0.7412,  ...,  1.0000,  1.0000,  1.0000],\n",
      "          [ 0.9843,  0.9529,  0.9216,  ...,  0.9843,  0.9843,  0.9843],\n",
      "          [ 0.9922,  0.9765,  0.9922,  ...,  0.9843,  0.9843,  0.9843]],\n",
      "\n",
      "         [[-0.8431, -0.8196, -0.8275,  ..., -0.4196, -0.3647, -0.3098],\n",
      "          [-0.6000, -0.6549, -0.4275,  ..., -0.3647, -0.4588, -0.2706],\n",
      "          [-0.5608, -0.6157, -0.6157,  ..., -0.3098, -0.3725, -0.3804],\n",
      "          ...,\n",
      "          [ 1.0000,  0.9059,  0.7412,  ...,  1.0000,  1.0000,  1.0000],\n",
      "          [ 0.9843,  0.9529,  0.9216,  ...,  0.9843,  0.9843,  0.9843],\n",
      "          [ 0.9922,  0.9765,  0.9922,  ...,  0.9843,  0.9843,  0.9843]],\n",
      "\n",
      "         [[-0.8196, -0.7804, -0.7647,  ..., -0.4431, -0.3882, -0.2941],\n",
      "          [-0.5843, -0.6235, -0.3882,  ..., -0.4902, -0.5686, -0.3176],\n",
      "          [-0.5451, -0.6000, -0.6157,  ..., -0.4353, -0.4902, -0.4510],\n",
      "          ...,\n",
      "          [ 1.0000,  0.9059,  0.7412,  ...,  1.0000,  1.0000,  1.0000],\n",
      "          [ 0.9843,  0.9529,  0.9216,  ...,  0.9843,  0.9843,  0.9843],\n",
      "          [ 0.9922,  0.9765,  0.9922,  ...,  0.9843,  0.9843,  0.9843]]],\n",
      "\n",
      "\n",
      "        [[[ 0.8431,  0.8196,  0.8196,  ...,  0.7882,  0.7961,  0.7961],\n",
      "          [ 0.8431,  0.8196,  0.8196,  ...,  0.7882,  0.7882,  0.7882],\n",
      "          [ 0.8510,  0.8275,  0.8275,  ...,  0.8039,  0.8039,  0.7961],\n",
      "          ...,\n",
      "          [ 0.4824,  0.2627, -0.3725,  ...,  0.7490,  0.7569,  0.7569],\n",
      "          [ 0.6471,  0.4118,  0.1451,  ...,  0.7725,  0.7647,  0.7647],\n",
      "          [ 0.7882,  0.6627,  0.4824,  ...,  0.7725,  0.7647,  0.7647]],\n",
      "\n",
      "         [[ 0.8353,  0.8118,  0.8118,  ...,  0.7882,  0.7961,  0.7961],\n",
      "          [ 0.8353,  0.8118,  0.8118,  ...,  0.7882,  0.7882,  0.7882],\n",
      "          [ 0.8431,  0.8196,  0.8196,  ...,  0.8039,  0.7961,  0.7961],\n",
      "          ...,\n",
      "          [ 0.5059,  0.2706, -0.3725,  ...,  0.7569,  0.7647,  0.7647],\n",
      "          [ 0.6471,  0.4353,  0.1765,  ...,  0.7804,  0.7725,  0.7725],\n",
      "          [ 0.7804,  0.6863,  0.5137,  ...,  0.7804,  0.7725,  0.7725]],\n",
      "\n",
      "         [[ 0.8196,  0.7961,  0.8039,  ...,  0.7725,  0.7725,  0.7804],\n",
      "          [ 0.8196,  0.7961,  0.7961,  ...,  0.7725,  0.7725,  0.7804],\n",
      "          [ 0.8275,  0.8039,  0.8039,  ...,  0.8039,  0.7961,  0.7804],\n",
      "          ...,\n",
      "          [ 0.4824,  0.2471, -0.3882,  ...,  0.7176,  0.7255,  0.7255],\n",
      "          [ 0.6078,  0.3961,  0.1451,  ...,  0.7412,  0.7333,  0.7333],\n",
      "          [ 0.7490,  0.6471,  0.4667,  ...,  0.7412,  0.7333,  0.7333]]],\n",
      "\n",
      "\n",
      "        [[[ 0.1137,  0.2549,  0.1137,  ..., -0.0824, -0.2863, -0.2157],\n",
      "          [-0.0902,  0.1686, -0.0118,  ..., -0.0196, -0.2235, -0.0980],\n",
      "          [-0.3412, -0.0667, -0.3804,  ..., -0.4275, -0.4353, -0.4275],\n",
      "          ...,\n",
      "          [ 0.1922,  0.0902,  0.0824,  ...,  0.0039, -0.0431, -0.0667],\n",
      "          [ 0.5686,  0.3490,  0.2784,  ...,  0.1137,  0.1373,  0.1294],\n",
      "          [ 0.3176,  0.4039,  0.3255,  ...,  0.0118,  0.3255,  0.1843]],\n",
      "\n",
      "         [[ 0.1843,  0.3255,  0.1843,  ...,  0.0118, -0.1922, -0.1294],\n",
      "          [-0.0039,  0.2706,  0.0824,  ...,  0.0745, -0.1294, -0.0118],\n",
      "          [-0.2000,  0.0824, -0.2706,  ..., -0.3333, -0.3412, -0.3412],\n",
      "          ...,\n",
      "          [-0.0196, -0.1686, -0.1843,  ..., -0.1373, -0.1686, -0.2392],\n",
      "          [ 0.3882,  0.0980,  0.0118,  ...,  0.0275,  0.0980,  0.0510],\n",
      "          [ 0.1373,  0.1843,  0.0824,  ..., -0.0039,  0.3647,  0.2000]],\n",
      "\n",
      "         [[ 0.2078,  0.3333,  0.2314,  ...,  0.1373, -0.0667,  0.0118],\n",
      "          [-0.0118,  0.2706,  0.1294,  ...,  0.2000, -0.0039,  0.1294],\n",
      "          [-0.1922,  0.1216, -0.2000,  ..., -0.2235, -0.2235, -0.2235],\n",
      "          ...,\n",
      "          [-0.2549, -0.4275, -0.4118,  ..., -0.2000, -0.2314, -0.3412],\n",
      "          [ 0.1608, -0.1843, -0.2314,  ..., -0.0431,  0.0667, -0.0118],\n",
      "          [-0.0510, -0.0510, -0.1137,  ..., -0.0196,  0.3961,  0.2000]]]]), tensor([9, 1, 9, 6])]\n",
      "2\n",
      "tensor([9, 8, 6, 5])\n",
      "a torch.Size([3, 36, 138])\n"
     ]
    },
    {
     "data": {
      "image/png": "[encoded data removed]",
      "text/plain": [
       "<Figure size 640x480 with 1 Axes>"
      ]
     },
     "metadata": {},
     "output_type": "display_data"
    },
    {
     "name": "stdout",
     "output_type": "stream",
     "text": [
      "truck ship  frog  dog  \n"
     ]
    }
   ],
   "source": [
    "import matplotlib.pyplot as plt\n",
    "import numpy as np\n",
    "\n",
    "# functions to show an image\n",
    "\n",
    "\n",
    "def imshow(img):\n",
    "    img = img / 2 + 0.5     # unnormalize\n",
    "    print(\"a\", img.shape)\n",
    "    npimg = img.numpy()\n",
    "    plt.imshow(np.transpose(npimg, (1, 2, 0)))\n",
    "    plt.show()\n",
    "\n",
    "# get some random training images\n",
    "dataiter = iter(trainloader)\n",
    "print(\"data2\", next(dataiter))\n",
    "print(len(next(dataiter)))\n",
    "images, labels = next(dataiter)\n",
    "print(labels)\n",
    "\n",
    "# show images\n",
    "imshow(torchvision.utils.make_grid(images))\n",
    "# print labels\n",
    "print(' '.join(f'{classes[labels[j]]:5s}' for j in range(batch_size)))"
   ]
  },
  {
   "cell_type": "code",
   "execution_count": 33,
   "metadata": {},
   "outputs": [],
   "source": [
    "import torch.nn as nn\n",
    "import torch.nn.functional as F\n",
    "\n",
    "\n",
    "class Net(nn.Module):\n",
    "    def __init__(self):\n",
    "        super().__init__()\n",
    "        self.conv1 = nn.Conv2d(3, 6, 5)\n",
    "        self.pool = nn.MaxPool2d(2, 2)\n",
    "        self.conv2 = nn.Conv2d(6, 16, 5)\n",
    "        self.fc1 = nn.Linear(16 * 5 * 5, 120)\n",
    "        self.fc2 = nn.Linear(120, 84)\n",
    "        self.fc3 = nn.Linear(84, 10)\n",
    "\n",
    "    def forward(self, x):\n",
    "        x = self.pool(F.relu(self.conv1(x)))\n",
    "        x = self.pool(F.relu(self.conv2(x)))\n",
    "        x = torch.flatten(x, 1) # flatten all dimensions except batch\n",
    "        x = F.relu(self.fc1(x))\n",
    "        x = F.relu(self.fc2(x))\n",
    "        x = self.fc3(x)\n",
    "        return x\n",
    "\n",
    "net = Net()"
   ]
  },
  {
   "cell_type": "code",
   "execution_count": 34,
   "metadata": {},
   "outputs": [],
   "source": [
    "import torch.optim as optim\n",
    "\n",
    "criterion = nn.CrossEntropyLoss()\n",
    "optimizer = optim.SGD(net.parameters(), lr=0.001, momentum=0.9)"
   ]
  },
  {
   "cell_type": "code",
   "execution_count": 35,
   "metadata": {},
   "outputs": [
    {
     "name": "stdout",
     "output_type": "stream",
     "text": [
      "[1,  2000] loss: 2.211\n",
      "[1,  4000] loss: 1.882\n",
      "[1,  6000] loss: 1.673\n",
      "[1,  8000] loss: 1.584\n",
      "[1, 10000] loss: 1.477\n",
      "[1, 12000] loss: 1.482\n",
      "[2,  2000] loss: 1.406\n",
      "[2,  4000] loss: 1.351\n",
      "[2,  6000] loss: 1.326\n",
      "[2,  8000] loss: 1.341\n",
      "[2, 10000] loss: 1.281\n",
      "[2, 12000] loss: 1.282\n",
      "Finished Training\n"
     ]
    }
   ],
   "source": [
    "for epoch in range(2):  # loop over the dataset multiple times\n",
    "\n",
    "    running_loss = 0.0\n",
    "    for i, data in enumerate(trainloader, 0):\n",
    "        # get the inputs; data is a list of [inputs, labels]\n",
    "        inputs, labels = data\n",
    "\n",
    "        # zero the parameter gradients\n",
    "        optimizer.zero_grad()\n",
    "\n",
    "        # forward + backward + optimize\n",
    "        outputs = net(inputs)\n",
    "        loss = criterion(outputs, labels)\n",
    "        loss.backward()\n",
    "        optimizer.step()\n",
    "\n",
    "        # print statistics\n",
    "        running_loss += loss.item()\n",
    "        if i % 2000 == 1999:    # print every 2000 mini-batches\n",
    "            print(f'[{epoch + 1}, {i + 1:5d}] loss: {running_loss / 2000:.3f}')\n",
    "            running_loss = 0.0\n",
    "\n",
    "print('Finished Training')"
   ]
  },
  {
   "cell_type": "code",
   "execution_count": null,
   "metadata": {},
   "outputs": [],
   "source": []
  },
  {
   "cell_type": "code",
   "execution_count": null,
   "metadata": {},
   "outputs": [],
   "source": []
  },
  {
   "cell_type": "code",
   "execution_count": null,
   "metadata": {},
   "outputs": [],
   "source": []
  }
 ],
 "metadata": {
  "kernelspec": {
   "display_name": "Python 3.9.13 ('cv')",
   "language": "python",
   "name": "python3"
  },
  "language_info": {
   "codemirror_mode": {
    "name": "ipython",
    "version": 3
   },
   "file_extension": ".py",
   "mimetype": "text/x-python",
   "name": "python",
   "nbconvert_exporter": "python",
   "pygments_lexer": "ipython3",
   "version": "3.9.13"
  },
  "orig_nbformat": 4,
  "vscode": {
   "interpreter": {
    "hash": "ed873c55909a6e142a866a7e2bf429482b15f3707c633b5ba7accb09030cdde1"
   }
  }
 },
 "nbformat": 4,
 "nbformat_minor": 2
}
